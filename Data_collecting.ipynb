{
  "nbformat": 4,
  "nbformat_minor": 0,
  "metadata": {
    "colab": {
      "provenance": [],
      "authorship_tag": "ABX9TyOQKuGW3y5ayatDuVDDfu57",
      "include_colab_link": true
    },
    "kernelspec": {
      "name": "python3",
      "display_name": "Python 3"
    },
    "language_info": {
      "name": "python"
    }
  },
  "cells": [
    {
      "cell_type": "markdown",
      "metadata": {
        "id": "view-in-github",
        "colab_type": "text"
      },
      "source": [
        "<a href=\"https://colab.research.google.com/github/yang0256/CanadaPostDepotVolume/blob/main/Data_collecting.ipynb\" target=\"_parent\"><img src=\"https://colab.research.google.com/assets/colab-badge.svg\" alt=\"Open In Colab\"/></a>"
      ]
    },
    {
      "cell_type": "code",
      "execution_count": 2,
      "metadata": {
        "colab": {
          "base_uri": "https://localhost:8080/"
        },
        "id": "O7UoRiR6U1O9",
        "outputId": "bced9208-a506-41e3-f905-cba9ff6e6633"
      },
      "outputs": [
        {
          "output_type": "stream",
          "name": "stdout",
          "text": [
            "Enter the name of the city (e.g. victoria): ottawa\n",
            "Enter the data type (e.g. daily, hourly, normal_daily): daily\n",
            "Enter the row limit: 1000\n",
            "CSV file saved to weatherstats_ottawa_daily.csv.\n"
          ]
        }
      ],
      "source": [
        "import csv\n",
        "import requests\n",
        "\n",
        "def download_weather_data(city, data_type, row_limit):\n",
        "    # The data to be submitted with the form\n",
        "    form_data = {\n",
        "        'formdata': 'ok',\n",
        "        'type': data_type,\n",
        "        'limit': str(row_limit),\n",
        "        'submit': 'Download'\n",
        "    }\n",
        "    \n",
        "    # Web server URL to download the weather data\n",
        "    url = f\"https://{city}.weatherstats.ca/download.html\"\n",
        "    \n",
        "    # Send a POST request to the URL to retrieve the CSV file data\n",
        "    response = requests.post(url, data=form_data)\n",
        "\n",
        "    # Check if the request was successful\n",
        "    if response.status_code == 200:\n",
        "        # Save the CSV file data to a file\n",
        "        filename = f\"weatherstats_{city}_{data_type}.csv\"\n",
        "        with open(filename, \"w\", newline=\"\") as f:\n",
        "            writer = csv.writer(f)\n",
        "            for line in response.text.strip().split(\"\\n\"):\n",
        "                writer.writerow(line.split(\",\"))\n",
        "        print(f\"CSV file saved to {filename}.\")\n",
        "    else:\n",
        "        print(\"Error: Could not retrieve CSV file.\")\n",
        "        \n",
        "## Prompt the user for the city name, data type, and row limit\n",
        "#city = input(\"Enter the name of the city (e.g. victoria): \")\n",
        "#data_type = input(\"Enter the data type (e.g. daily, hourly, normal_daily): \")\n",
        "#row_limit = int(input(\"Enter the row limit: \"))\n",
        "\n",
        "## Call the download_weather_data function with the user input\n",
        "#download_weather_data(city, data_type, row_limit)"
      ]
    },
    {
      "cell_type": "code",
      "source": [
        "# Download 2000 rows of daily weather data for Montreal\n",
        "download_weather_data(\"montreal\", \"daily\", 2000)\n",
        "\n",
        "# Download 2000 rows of daily weather data for Toronto\n",
        "download_weather_data(\"toronto\", \"daily\", 2000)\n",
        "\n",
        "# Download 2000 rows of daily weather data for Red Deer\n",
        "download_weather_data(\"reddeer\", \"daily\", 2000)\n",
        "\n",
        "# Download 2000 rows of daily weather data for Mississauga\n",
        "download_weather_data(\"mississauga\", \"daily\", 2000)"
      ],
      "metadata": {
        "colab": {
          "base_uri": "https://localhost:8080/"
        },
        "id": "KymqiKYBaZSi",
        "outputId": "d8aafdf7-f0d6-486d-fc4e-dbfecfcf5532"
      },
      "execution_count": 3,
      "outputs": [
        {
          "output_type": "stream",
          "name": "stdout",
          "text": [
            "CSV file saved to weatherstats_montreal_daily.csv.\n",
            "CSV file saved to weatherstats_toronto_daily.csv.\n",
            "CSV file saved to weatherstats_reddeer_daily.csv.\n",
            "CSV file saved to weatherstats_mississauga_daily.csv.\n"
          ]
        }
      ]
    }
  ]
}